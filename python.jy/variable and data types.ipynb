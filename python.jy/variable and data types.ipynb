{
 "cells": [
  {
   "cell_type": "code",
   "execution_count": 19,
   "id": "58a8dced-a689-4352-925e-e1c69f575c04",
   "metadata": {},
   "outputs": [
    {
     "name": "stdout",
     "output_type": "stream",
     "text": [
      "<class 'int'>\n",
      "<class 'str'>\n",
      "<class 'float'>\n",
      "<class 'bool'>\n",
      "<class 'NoneType'>\n"
     ]
    }
   ],
   "source": [
    "                             # use to define the data type\n",
    "\n",
    "day = 56\n",
    "name = 'divyanshu'\n",
    "price = 56.5\n",
    "answer = True\n",
    "a = None\n",
    "\n",
    "\n",
    "print(type(day))\n",
    "print(type(name))\n",
    "print(type(price))\n",
    "print(type(answer))\n",
    "print(type(a))\n",
    "\n",
    "\n",
    "python is a case sensitive language, it means that 'A' and 'a' is diffrent \n"
   ]
  },
  {
   "cell_type": "code",
   "execution_count": 29,
   "id": "1d7fe86e-8729-45b9-a3c5-dfa7e3e36a4a",
   "metadata": {},
   "outputs": [
    {
     "name": "stdout",
     "output_type": "stream",
     "text": [
      "121\n",
      "-9\n",
      "3640\n",
      "0.8615384615384616\n",
      "428767397726920461359949213083455469347901821842861057262916997345564317055935649863217467018497073282695955480576\n"
     ]
    }
   ],
   "source": [
    "\n",
    "# arthmatic operator\n",
    "\n",
    "a = 56\n",
    "b = 65\n",
    "# sum = a+b\n",
    "print(a + b)\n",
    "print(a - b)\n",
    "print(a * b)\n",
    "print(a / b)\n",
    "print(a ** b)"
   ]
  },
  {
   "cell_type": "code",
   "execution_count": 31,
   "id": "47e9b16b-bb44-438c-93c3-6e4f9bb40330",
   "metadata": {},
   "outputs": [
    {
     "name": "stdout",
     "output_type": "stream",
     "text": [
      "False\n",
      "True\n",
      "False\n",
      "False\n",
      "True\n",
      "True\n"
     ]
    }
   ],
   "source": [
    "# relation/ comparison operator\n",
    "\n",
    "a = 56\n",
    "b = 65\n",
    "\n",
    "print(a == b)\n",
    "print(a != b)\n",
    "print(a >= b)\n",
    "print(a > b)\n",
    "print(a <= b)\n",
    "print(a < b)\n"
   ]
  },
  {
   "cell_type": "code",
   "execution_count": 35,
   "id": "c6b74df5-11cc-440a-abce-45ada6332047",
   "metadata": {},
   "outputs": [
    {
     "name": "stdout",
     "output_type": "stream",
     "text": [
      "61\n",
      "51\n",
      "280\n",
      "11.2\n",
      "550731776\n"
     ]
    }
   ],
   "source": [
    "# assignment operators(=,+=,-=....)\n",
    "\n",
    "num = 56\n",
    "# num = num + 5\n",
    "num += 5\n",
    "print(num)\n",
    "\n",
    "num = 56\n",
    "# num = num - 5\n",
    "num -= 5\n",
    "print(num)\n",
    "\n",
    "num = 56\n",
    "# num = num * 5\n",
    "num *= 5\n",
    "print(num)\n",
    "\n",
    "num = 56\n",
    "# num = num / 5\n",
    "num /= 5\n",
    "print(num)\n",
    "\n",
    "num = 56\n",
    "# num = num + 5\n",
    "num **= 5\n",
    "print(num)"
   ]
  },
  {
   "cell_type": "code",
   "execution_count": 43,
   "id": "d886535e-38ff-4764-a07c-39e47eeaaeda",
   "metadata": {},
   "outputs": [
    {
     "name": "stdout",
     "output_type": "stream",
     "text": [
      "True\n",
      "True\n",
      "AND operator: False\n",
      "OR operator: True\n"
     ]
    }
   ],
   "source": [
    "# logic operator(not,and,or)----  work on boolean value\n",
    "\n",
    "a = 4\n",
    "b = 12\n",
    "print(not False)\n",
    "print(not(a > b))\n",
    "\n",
    "val_1 = False\n",
    "val_2 = True\n",
    "\n",
    "print(\"AND operator:\",val_1 and val_2)   #IF ONE VALUE IS FALSE PRINT 'FALSE'\n",
    "\n",
    "print('OR operator:',(a == b) or (a < b) )     #IF ONE VALUE IS TRUE PRINT AND ONE VALUE IS FALSE PRINT 'TRUE'\n",
    "\n"
   ]
  },
  {
   "cell_type": "code",
   "execution_count": 45,
   "id": "26db4ddb-4141-429b-97dc-4f6cdd4c682f",
   "metadata": {},
   "outputs": [
    {
     "name": "stdout",
     "output_type": "stream",
     "text": [
      "56\n"
     ]
    }
   ],
   "source": [
    "# type conversion\n",
    "\n",
    "a = 56\n",
    "a =  str(a)\n",
    "print(a)"
   ]
  },
  {
   "cell_type": "code",
   "execution_count": 48,
   "id": "1e0d8ad4-cb7f-49f8-bf4f-2c85a07115c6",
   "metadata": {},
   "outputs": [
    {
     "name": "stdin",
     "output_type": "stream",
     "text": [
      "enter your name: Divyanshu\n",
      "enter your age: 20\n",
      "enter your marks: 00\n"
     ]
    },
    {
     "name": "stdout",
     "output_type": "stream",
     "text": [
      "name= Divyanshu\n",
      "age= 20\n",
      "marks= 00\n"
     ]
    }
   ],
   "source": [
    "# learn input\n",
    "\n",
    "name = input(\"enter your name:\")\n",
    "age = int(input(\"enter your age:\"))\n",
    "marks = float(input(\"enter your marks:\"))\n",
    "\n",
    "print(\"name=\",name)\n",
    "print(\"age=\",age)\n",
    "print(\"marks=\",marks)"
   ]
  },
  {
   "cell_type": "code",
   "execution_count": 57,
   "id": "f2477b51-081a-4110-85aa-9291645c0508",
   "metadata": {},
   "outputs": [
    {
     "name": "stdin",
     "output_type": "stream",
     "text": [
      "enter A 56\n",
      "enter B 56\n"
     ]
    },
    {
     "name": "stdout",
     "output_type": "stream",
     "text": [
      "112\n"
     ]
    }
   ],
   "source": [
    "# practice\n",
    "\n",
    "first = int(input(\"enter A\"))\n",
    "second = int(input(\"enter B\"))\n",
    "sum = first + second\n",
    "print(sum)\n",
    "\n"
   ]
  },
  {
   "cell_type": "code",
   "execution_count": 58,
   "id": "1f3201fa-ddf9-4d14-b1d7-7b5de4c32bd7",
   "metadata": {},
   "outputs": [
    {
     "name": "stdin",
     "output_type": "stream",
     "text": [
      "enter a 23\n"
     ]
    },
    {
     "name": "stdout",
     "output_type": "stream",
     "text": [
      "area is = 529.0\n"
     ]
    }
   ],
   "source": [
    "a = float(input('enter a'))\n",
    "area = a*a\n",
    "print(\"area is =\",area)"
   ]
  },
  {
   "cell_type": "code",
   "execution_count": 66,
   "id": "35e00751-266e-4897-b7ef-7791fb4d14d9",
   "metadata": {},
   "outputs": [
    {
     "name": "stdin",
     "output_type": "stream",
     "text": [
      "enter the number A: 5\n",
      "enter the number B: 6\n"
     ]
    },
    {
     "name": "stdout",
     "output_type": "stream",
     "text": [
      "avg is: 5.5\n"
     ]
    }
   ],
   "source": [
    "A = float(input('enter the number A:'))\n",
    "B = float(input('enter the number B:'))\n",
    "avg = (A+B)/2\n",
    "print('avg is:',avg)\n"
   ]
  },
  {
   "cell_type": "code",
   "execution_count": 67,
   "id": "8096f7f1-fd11-411c-90ff-79a05c5ca3d8",
   "metadata": {},
   "outputs": [
    {
     "name": "stdin",
     "output_type": "stream",
     "text": [
      "enter the number A: 6\n",
      "enter the number B: 5\n"
     ]
    },
    {
     "name": "stdout",
     "output_type": "stream",
     "text": [
      "True\n"
     ]
    }
   ],
   "source": [
    "A = int(input('enter the number A:'))\n",
    "B = int(input('enter the number B:'))\n",
    "print(A >= B)"
   ]
  }
 ],
 "metadata": {
  "kernelspec": {
   "display_name": "Python 3 (ipykernel)",
   "language": "python",
   "name": "python3"
  },
  "language_info": {
   "codemirror_mode": {
    "name": "ipython",
    "version": 3
   },
   "file_extension": ".py",
   "mimetype": "text/x-python",
   "name": "python",
   "nbconvert_exporter": "python",
   "pygments_lexer": "ipython3",
   "version": "3.11.7"
  }
 },
 "nbformat": 4,
 "nbformat_minor": 5
}
