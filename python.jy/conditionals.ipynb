{
 "cells": [
  {
   "cell_type": "code",
   "execution_count": 1,
   "id": "8405d4a6-6520-48ed-87b8-3a788789bf11",
   "metadata": {},
   "outputs": [
    {
     "name": "stdout",
     "output_type": "stream",
     "text": [
      "teenager\n"
     ]
    }
   ],
   "source": [
    "# quations on conditional\n",
    "\n",
    "# 1.age group categorization \n",
    "# child(<13),teenager(13-19),adult(20-59),senior(60\n",
    "\n",
    "age = 19\n",
    "if age < 13:\n",
    "    print(\"child\")\n",
    "elif age < 20:\n",
    "    print(\"teenager\")\n",
    "elif age < 60:\n",
    "    print(\"adult\")\n",
    "else:\n",
    "    print(\"senior\")\n",
    "\n",
    "\n"
   ]
  },
  {
   "cell_type": "code",
   "execution_count": 13,
   "id": "3088d18f-4869-4101-851e-62a43eaa02ab",
   "metadata": {},
   "outputs": [
    {
     "name": "stdout",
     "output_type": "stream",
     "text": [
      "The price of discounted day $ 10\n"
     ]
    }
   ],
   "source": [
    "# # 2. movie ticket pricing\n",
    "# based on age $12 for adults(18 and over),$8 for children, everyone gets a $2 discount on wednesday.\n",
    "\n",
    "age = 19\n",
    "day = \"wednesday\"\n",
    "\n",
    "price = 12 if age >= 18 else 8\n",
    "\n",
    "if day == \"wednesday\":\n",
    "    price = price-2\n",
    "    \n",
    "print(\"The price of discounted day $\",price)\n"
   ]
  },
  {
   "cell_type": "code",
   "execution_count": 3,
   "id": "3136c308-1399-4250-b624-9143e6b50991",
   "metadata": {},
   "outputs": [
    {
     "name": "stdout",
     "output_type": "stream",
     "text": [
      "ripe\n"
     ]
    }
   ],
   "source": [
    "fruit = \"banana\"\n",
    "color = \"yellow\"\n",
    "\n",
    "if fruit == \"banana\":\n",
    "    if color == \"green\":\n",
    "        print(\"unripe\")\n",
    "    elif color == \"yellow\":\n",
    "        print(\"ripe\")\n",
    "    elif color == \"brown\":\n",
    "        print(\"overripe\")\n",
    "    \n"
   ]
  },
  {
   "cell_type": "code",
   "execution_count": 5,
   "id": "5089783a-1be6-4568-b6e3-ca288fbb1a7c",
   "metadata": {},
   "outputs": [
    {
     "name": "stdout",
     "output_type": "stream",
     "text": [
      "build a snowman\n"
     ]
    }
   ],
   "source": [
    "# weather activity suggestion\n",
    "# (e.g., sunny-go for a walk, rainy-read a book, snowy-build a snowman)\n",
    "\n",
    "weather = \"snowy\"\n",
    "# work = \"read a book\"\n",
    "\n",
    "if weather == \"sunny\":\n",
    "        print(\"go for a walk\")\n",
    "elif weather == \"rainy\":\n",
    "    print(\"read a book\")\n",
    "elif weather == \"snowy\":\n",
    "    print(\"build a snowman\")\n",
    "\n"
   ]
  },
  {
   "cell_type": "code",
   "execution_count": 16,
   "id": "0b58804d-c66c-4740-98e6-a5174b49048d",
   "metadata": {},
   "outputs": [
    {
     "name": "stdout",
     "output_type": "stream",
     "text": [
      "AI recommend you the transport of: car\n"
     ]
    }
   ],
   "source": [
    "# transportation mode selection\n",
    "# (e.g., <3km:walk,3-15km:bike,>15km:car).\n",
    "\n",
    "# source = \"car\"\n",
    "\n",
    "# if source < 3:\n",
    "#     print(\"Go for a walk\")\n",
    "# elif source <= 15:\n",
    "#     print(\"ride a bike\")\n",
    "# else :\n",
    "#     print(\"drive a car\")\n",
    "\n",
    "distance = 20\n",
    "\n",
    "if distance < 3:\n",
    "    transport = \"walk\"\n",
    "elif distance <= 15:\n",
    "    transport = \"bike\"\n",
    "else:\n",
    "    transport = \"car\"\n",
    "\n",
    "print(\"AI recommend you the transport of:\",transport)\n",
    "    "
   ]
  },
  {
   "cell_type": "code",
   "execution_count": 20,
   "id": "9fba66b2-9921-4281-b5eb-9d3ab42bd30b",
   "metadata": {},
   "outputs": [
    {
     "name": "stdout",
     "output_type": "stream",
     "text": [
      "order: medium coffee with an extra shot\n"
     ]
    }
   ],
   "source": [
    "# coffee customization\n",
    "\n",
    "order_size = \"medium\"\n",
    "extra_shot = True\n",
    "\n",
    "if extra_shot:\n",
    "    coffee = order_size + \" coffee with an extra shot\"\n",
    "else:\n",
    "    coffee = order_size + \"coffee\"\n",
    "\n",
    "print(\"order:\", coffee)\n"
   ]
  },
  {
   "cell_type": "code",
   "execution_count": 28,
   "id": "6939c31a-0218-4976-b1e1-21c7bb2f6c93",
   "metadata": {},
   "outputs": [
    {
     "name": "stdout",
     "output_type": "stream",
     "text": [
      "this password is the  medium\n"
     ]
    }
   ],
   "source": [
    "# password strength cheaker\n",
    "\n",
    "password = \"divya@984\"\n",
    "\n",
    "if len(password) < 6:\n",
    "    strength = \"weak\"\n",
    "elif len(password) <= 10:\n",
    "    strength = \"medium\"\n",
    "else:\n",
    "    strength = \"strong\"\n",
    "\n",
    "print(\"this password is the \",strength)"
   ]
  },
  {
   "cell_type": "code",
   "execution_count": 29,
   "id": "206fb717-0b0f-49ac-baf3-33a80e1f93be",
   "metadata": {},
   "outputs": [
    {
     "name": "stdout",
     "output_type": "stream",
     "text": [
      "2025 is NOT a leap year\n"
     ]
    }
   ],
   "source": [
    "year = 2025\n",
    "\n",
    "if (year % 400 == 0) or (year % 4 == 0 and year % 100 != 0):\n",
    "    print(year,\"is a leap year\")\n",
    "else:\n",
    "    print(year,\"is NOT a leap year\")"
   ]
  },
  {
   "cell_type": "code",
   "execution_count": 1,
   "id": "db81ef76-191c-46a2-bd31-32c86a751eff",
   "metadata": {},
   "outputs": [
    {
     "name": "stdout",
     "output_type": "stream",
     "text": [
      "weird\n"
     ]
    }
   ],
   "source": [
    "n = 30\n",
    "\n",
    "if 1 <= n / 2 != 0:\n",
    "    print(\"weird\")\n",
    "elif n >= 2 <= 5 / 2:\n",
    "    print(\"Not Weird\")\n",
    "elif n >= 6 <= 20 / 2:\n",
    "    print(\"weird\")\n",
    "else :\n",
    "    print(\"not weird\")"
   ]
  }
 ],
 "metadata": {
  "kernelspec": {
   "display_name": "Python 3 (ipykernel)",
   "language": "python",
   "name": "python3"
  },
  "language_info": {
   "codemirror_mode": {
    "name": "ipython",
    "version": 3
   },
   "file_extension": ".py",
   "mimetype": "text/x-python",
   "name": "python",
   "nbconvert_exporter": "python",
   "pygments_lexer": "ipython3",
   "version": "3.11.7"
  }
 },
 "nbformat": 4,
 "nbformat_minor": 5
}
