{
 "cells": [
  {
   "cell_type": "code",
   "execution_count": 5,
   "id": "daba77a8-5df6-4f46-b94e-d1e331ecd03f",
   "metadata": {},
   "outputs": [
    {
     "name": "stdout",
     "output_type": "stream",
     "text": [
      "9\n",
      "divyanshu kumar\n",
      "15\n"
     ]
    }
   ],
   "source": [
    "str1 = 'divyanshu'\n",
    "print(len(str1))\n",
    "str2 = ' kumar'\n",
    "final = str1 + str2\n",
    "print(final)\n",
    "print(len(final))\n",
    "\n"
   ]
  },
  {
   "cell_type": "code",
   "execution_count": 18,
   "id": "476e52bf-0d36-415b-b669-bb727a524f0c",
   "metadata": {},
   "outputs": [
    {
     "name": "stdout",
     "output_type": "stream",
     "text": [
      "True\n",
      "This is divyanshu\n",
      "this is python\n",
      "12\n",
      "3\n"
     ]
    }
   ],
   "source": [
    "# string function\n",
    "\n",
    "str = 'this is divyanshu'\n",
    "print(str.endswith('shu'))\n",
    "print(str.capitalize())\n",
    "print(str.replace('divyanshu','python'))\n",
    "print(str.find('a'))\n",
    "print(str.count('i'))"
   ]
  },
  {
   "cell_type": "code",
   "execution_count": 21,
   "id": "1d8bc37c-d01d-4c9c-9746-2cfd2072397e",
   "metadata": {},
   "outputs": [
    {
     "name": "stdin",
     "output_type": "stream",
     "text": [
      "enter your first name: divyanshu\n"
     ]
    },
    {
     "name": "stdout",
     "output_type": "stream",
     "text": [
      "length of your name 9\n"
     ]
    }
   ],
   "source": [
    "A = input('enter your first name:')\n",
    "print('length of your name',len(A))\n"
   ]
  },
  {
   "cell_type": "code",
   "execution_count": 28,
   "id": "11de860d-db96-4e15-95f6-487dd4daf14f",
   "metadata": {},
   "outputs": [
    {
     "name": "stdin",
     "output_type": "stream",
     "text": [
      "Enter your marks: 23\n"
     ]
    },
    {
     "name": "stdout",
     "output_type": "stream",
     "text": [
      "D grade\n"
     ]
    }
   ],
   "source": [
    "\n",
    "# conditional statment\n",
    "\n",
    "marks = int(input('Enter your marks:'))\n",
    "\n",
    "if (marks >= 90):\n",
    "    print('A grade')\n",
    "elif (90 > marks >= 80):\n",
    "    print('B grade')\n",
    "elif (80 > marks >= 70):\n",
    "    print(\"C grade\")\n",
    "else:\n",
    "    print('D grade')\n"
   ]
  },
  {
   "cell_type": "code",
   "execution_count": 31,
   "id": "94cb85aa-f3d1-4a19-aba2-27feb778f40a",
   "metadata": {},
   "outputs": [
    {
     "name": "stdin",
     "output_type": "stream",
     "text": [
      "Enter your number : 562\n"
     ]
    },
    {
     "name": "stdout",
     "output_type": "stream",
     "text": [
      "even\n"
     ]
    }
   ],
   "source": [
    "num = int(input('Enter your number :'))\n",
    "\n",
    "if(num % 2 == 0):\n",
    "    print('even')\n",
    "elif(num % 2 != 0):\n",
    "    print(\"odd\")\n"
   ]
  },
  {
   "cell_type": "code",
   "execution_count": 35,
   "id": "bee2130a-16f6-4de8-83b7-6c01e61b5e2e",
   "metadata": {},
   "outputs": [
    {
     "name": "stdin",
     "output_type": "stream",
     "text": [
      "enter the first number : 5\n",
      "enter the second number : 3\n",
      "enter the third number : 8\n"
     ]
    },
    {
     "name": "stdout",
     "output_type": "stream",
     "text": [
      "third number is largest 8\n"
     ]
    }
   ],
   "source": [
    "a = int(input(\"enter the first number :\"))\n",
    "b = int(input(\"enter the second number :\"))\n",
    "c = int(input(\"enter the third number :\"))\n",
    "if (a >= b and b >= c):\n",
    "    print('first number is largest',a)\n",
    "elif(a > c):\n",
    "    print(\"second number is largest\",b)\n",
    "else:\n",
    "    print(\"third number is largest\",c)"
   ]
  },
  {
   "cell_type": "code",
   "execution_count": 38,
   "id": "99dd451e-a9e2-483b-b453-853d3e9dfc56",
   "metadata": {},
   "outputs": [
    {
     "name": "stdin",
     "output_type": "stream",
     "text": [
      "enter your number : 5\n"
     ]
    },
    {
     "name": "stdout",
     "output_type": "stream",
     "text": [
      "not multiple of 7\n"
     ]
    }
   ],
   "source": [
    "number = int(input(\"enter your number :\"))\n",
    "\n",
    "if number % 7 == 0:\n",
    "    print('multiple of 7')\n",
    "else:\n",
    "    print('not multiple of 7')"
   ]
  }
 ],
 "metadata": {
  "kernelspec": {
   "display_name": "Python 3 (ipykernel)",
   "language": "python",
   "name": "python3"
  },
  "language_info": {
   "codemirror_mode": {
    "name": "ipython",
    "version": 3
   },
   "file_extension": ".py",
   "mimetype": "text/x-python",
   "name": "python",
   "nbconvert_exporter": "python",
   "pygments_lexer": "ipython3",
   "version": "3.11.7"
  }
 },
 "nbformat": 4,
 "nbformat_minor": 5
}
