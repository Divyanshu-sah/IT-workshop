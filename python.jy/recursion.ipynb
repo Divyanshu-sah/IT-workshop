{
 "cells": [
  {
   "cell_type": "code",
   "execution_count": 37,
   "id": "1052ebba-b886-4575-b17a-28609ff0fdc2",
   "metadata": {},
   "outputs": [
    {
     "name": "stdout",
     "output_type": "stream",
     "text": [
      "120\n"
     ]
    }
   ],
   "source": [
    "#    # recursion in python\n",
    "\n",
    "# factorial of a number\n",
    "\n",
    "def fact(n):\n",
    "    if(n == 1 or n == 0):\n",
    "        return 1\n",
    "    return fact(n-1) * n\n",
    "\n",
    "print(fact(5))\n"
   ]
  },
  {
   "cell_type": "code",
   "execution_count": 41,
   "id": "d421bb04-734f-49e8-8582-eea45def6ddc",
   "metadata": {},
   "outputs": [
    {
     "name": "stdout",
     "output_type": "stream",
     "text": [
      "210\n"
     ]
    }
   ],
   "source": [
    "# write a recursion function to calculate the sum of first natural numbers\n",
    "\n",
    "def calc_sum(n):\n",
    "    if(n == 0):\n",
    "        return 0\n",
    "    return calc_sum(n-1) + n\n",
    "sum = calc_sum(20)\n",
    "print(sum)"
   ]
  },
  {
   "cell_type": "code",
   "execution_count": 3,
   "id": "4b0a33b0-43fa-49a2-834b-2014b171ba6f",
   "metadata": {},
   "outputs": [
    {
     "name": "stdout",
     "output_type": "stream",
     "text": [
      "apple\n",
      "banana\n",
      "orange\n"
     ]
    }
   ],
   "source": [
    "# write a recursive function to print all element in a list.\n",
    "\n",
    "def print_list(list,idx = 0):\n",
    "    if(idx == len(list)):\n",
    "        return\n",
    "    print(list[idx])\n",
    "    print_list(list,idx+1)\n",
    "\n",
    "fruits = [\"apple\", \"banana\",\"orange\"]\n",
    "\n",
    "print_list(fruits)\n",
    "    "
   ]
  }
 ],
 "metadata": {
  "kernelspec": {
   "display_name": "Python 3 (ipykernel)",
   "language": "python",
   "name": "python3"
  },
  "language_info": {
   "codemirror_mode": {
    "name": "ipython",
    "version": 3
   },
   "file_extension": ".py",
   "mimetype": "text/x-python",
   "name": "python",
   "nbconvert_exporter": "python",
   "pygments_lexer": "ipython3",
   "version": "3.11.7"
  }
 },
 "nbformat": 4,
 "nbformat_minor": 5
}
