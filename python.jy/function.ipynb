{
 "cells": [
  {
   "cell_type": "code",
   "execution_count": 4,
   "id": "d91e52bc-e443-4eb7-9747-71f06642931d",
   "metadata": {},
   "outputs": [
    {
     "name": "stdout",
     "output_type": "stream",
     "text": [
      "10\n",
      "8\n",
      "149\n",
      "11\n"
     ]
    }
   ],
   "source": [
    "                          #function in python\n",
    "\n",
    "def calc_sum(a,b):          \n",
    "    sum = a + b\n",
    "    print(sum)\n",
    "    return sum\n",
    "\n",
    "calc_sum(4,6)\n",
    "calc_sum(5,3)\n",
    "calc_sum(96,53)\n",
    "\n",
    "\n",
    "# second method\n",
    "def add_no(a,b):\n",
    "    return a + b\n",
    "\n",
    "sum = add_no(5,6)\n",
    "print(sum)\n",
    "\n"
   ]
  },
  {
   "cell_type": "code",
   "execution_count": 6,
   "id": "59d5844f-30a9-49ab-98d2-c9120b0f81af",
   "metadata": {},
   "outputs": [
    {
     "name": "stdout",
     "output_type": "stream",
     "text": [
      "hello\n"
     ]
    }
   ],
   "source": [
    "def print_hello():\n",
    "    print(\"hello\")\n",
    "\n",
    "print_hello()\n"
   ]
  },
  {
   "cell_type": "code",
   "execution_count": 17,
   "id": "0b88d6da-b32b-4755-b897-e1acf6958616",
   "metadata": {},
   "outputs": [
    {
     "name": "stdout",
     "output_type": "stream",
     "text": [
      "10.0\n",
      "10.0\n"
     ]
    },
    {
     "data": {
      "text/plain": [
       "10.0"
      ]
     },
     "execution_count": 17,
     "metadata": {},
     "output_type": "execute_result"
    }
   ],
   "source": [
    "def average(a,b,c):\n",
    "    sum = a + b + c\n",
    "    avg = sum / 3\n",
    "    print(avg)\n",
    "    return avg\n",
    "\n",
    "average(11,9,10)\n"
   ]
  },
  {
   "cell_type": "code",
   "execution_count": 23,
   "id": "81ff3dae-63a0-49c0-b72b-d2b1e63f1d05",
   "metadata": {},
   "outputs": [
    {
     "name": "stdout",
     "output_type": "stream",
     "text": [
      "3\n"
     ]
    }
   ],
   "source": [
    "# wrf to ptint the length of a list (list is a parametr)\n",
    "\n",
    "fruits = [\"apple\",\"bananna\",\"mango\"]\n",
    "\n",
    "def list(fruits):\n",
    "    print(len(fruits))\n",
    "\n",
    "list(fruits)\n"
   ]
  },
  {
   "cell_type": "code",
   "execution_count": 25,
   "id": "4441d346-01be-4f05-9f81-e6a9630a87cb",
   "metadata": {},
   "outputs": [
    {
     "name": "stdout",
     "output_type": "stream",
     "text": [
      "apple bananna mango "
     ]
    }
   ],
   "source": [
    "# waf to print the elemrnts in the single line\n",
    "\n",
    "fruits = [\"apple\",\"bananna\",\"mango\"]\n",
    "\n",
    "def list(fruits):\n",
    "   for item in fruits:\n",
    "       print(item,end=\" \")\n",
    "\n",
    "list(fruits)\n"
   ]
  },
  {
   "cell_type": "code",
   "execution_count": 32,
   "id": "54e389b1-c69d-412d-9e4d-779052b15ed4",
   "metadata": {},
   "outputs": [
    {
     "name": "stdout",
     "output_type": "stream",
     "text": [
      "120\n"
     ]
    }
   ],
   "source": [
    "# waf to find the factorial of a number(n is the parameter) \n",
    "\n",
    "def fact(n):\n",
    "    fact = 1\n",
    "    for i in range(1,n+1):\n",
    "        # fact = fact * i\n",
    "        fact *= i\n",
    "    print(fact)\n",
    "\n",
    "fact(5)\n"
   ]
  },
  {
   "cell_type": "code",
   "execution_count": 35,
   "id": "9d202520-81df-4641-854a-8e43190a3fc4",
   "metadata": {},
   "outputs": [
    {
     "name": "stdout",
     "output_type": "stream",
     "text": [
      "561 USD = 46563 INR\n"
     ]
    }
   ],
   "source": [
    "# waf to convert usd to inr.\n",
    "\n",
    "def convert(usd_val):\n",
    "    inr_val = usd_val * 83\n",
    "    print(usd_val,\"USD =\",inr_val,\"INR\")\n",
    "\n",
    "convert(561)"
   ]
  },
  {
   "cell_type": "code",
   "execution_count": null,
   "id": "829f0dbb-a870-4145-9de6-c2642e2514d3",
   "metadata": {},
   "outputs": [],
   "source": [
    "# QUESTION \n",
    "\n",
    "# WAF TO PRINT ANY NUMBER TO CHECK (IF NUMBER IS ODD \"then string return a ODD\" IF NUMBER IS EVEN \"then string return a EVEN\")\n",
    "\n",
    "# SOLVE THE PROBLE HERE...........\n"
   ]
  },
  {
   "cell_type": "code",
   "execution_count": null,
   "id": "0f4f9af8-3162-4ab7-9fa2-77f22ef1b4c7",
   "metadata": {},
   "outputs": [],
   "source": []
  }
 ],
 "metadata": {
  "kernelspec": {
   "display_name": "Python 3 (ipykernel)",
   "language": "python",
   "name": "python3"
  },
  "language_info": {
   "codemirror_mode": {
    "name": "ipython",
    "version": 3
   },
   "file_extension": ".py",
   "mimetype": "text/x-python",
   "name": "python",
   "nbconvert_exporter": "python",
   "pygments_lexer": "ipython3",
   "version": "3.11.7"
  }
 },
 "nbformat": 4,
 "nbformat_minor": 5
}
