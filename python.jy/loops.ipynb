{
 "cells": [
  {
   "cell_type": "code",
   "execution_count": null,
   "id": "f24ca4d8-3544-4d7e-862b-923459618de7",
   "metadata": {},
   "outputs": [],
   "source": [
    "count = 1\n",
    "while count <= 10:\n",
    "    print('Divyanshu')\n",
    "    count += 1\n",
    "\n",
    "i = 1 \n",
    "while i <= 9:\n",
    "    print(i)\n",
    "    i = i + 1\n",
    "\n",
    "i = 9\n",
    "while i >= 1:\n",
    "    print(i)\n",
    "    i = i - 1"
   ]
  },
  {
   "cell_type": "code",
   "execution_count": null,
   "id": "fdc1245f-c169-45a2-b9ca-a4278c9ea5dc",
   "metadata": {},
   "outputs": [],
   "source": [
    "# practice problem\n",
    "# 1. print number from 1 to 100\n",
    "\n",
    "i = 1\n",
    "while i <= 100:\n",
    "    print(i)\n",
    "    i = i + 1\n",
    "\n",
    "# 2. print number from 100 to 1\n",
    "\n",
    "i = 100\n",
    "while i >= 1:\n",
    "    print(i)\n",
    "    i = i - 1\n",
    "\n",
    "# 3. print the multiplication table of a number n..\n",
    "\n",
    "n = int(input('enter your number :'))\n",
    "i = 1\n",
    "while i <= 10:\n",
    "    print(n * i)\n",
    "    i = i + 1\n",
    "    \n"
   ]
  },
  {
   "cell_type": "code",
   "execution_count": null,
   "id": "c559b256-75e0-4521-8f11-880a97403c10",
   "metadata": {},
   "outputs": [],
   "source": [
    "# 4. print the element of the following list using loops\n",
    "\n",
    "num = [1,4,9,16,25,36,49,64,81,100]\n",
    "\n",
    "i = 0\n",
    "while i < len(num):\n",
    "    print(num[i])\n",
    "    i = i +1\n",
    "\n",
    "heroes = ['akshay kumar' , 'salman' , 'sahrukh']\n",
    "\n",
    "i = 0\n",
    "while i < len(heroes):\n",
    "    print(heroes[i])\n",
    "    i = i + 1\n",
    "    \n",
    "# 5. search for a number x in this tuples using loop\n",
    "\n",
    "tup = (1,4,9,16,25,36,49,64,81,100)\n",
    "\n",
    "x = 49\n",
    "i = 0\n",
    "while i < len(tup):\n",
    "    if num[i] == x:\n",
    "        print('sucessful',i)\n",
    "    else:\n",
    "        print('no')\n",
    "    i = i + 1    \n"
   ]
  }
 ],
 "metadata": {
  "kernelspec": {
   "display_name": "Python 3 (ipykernel)",
   "language": "python",
   "name": "python3"
  },
  "language_info": {
   "codemirror_mode": {
    "name": "ipython",
    "version": 3
   },
   "file_extension": ".py",
   "mimetype": "text/x-python",
   "name": "python",
   "nbconvert_exporter": "python",
   "pygments_lexer": "ipython3",
   "version": "3.11.7"
  }
 },
 "nbformat": 4,
 "nbformat_minor": 5
}
