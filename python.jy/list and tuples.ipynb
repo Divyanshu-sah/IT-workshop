{
 "cells": [
  {
   "cell_type": "code",
   "execution_count": null,
   "id": "324a2345-d573-48ef-b0db-3c8590900482",
   "metadata": {},
   "outputs": [],
   "source": [
    "student = ['divyansshu',56,'bihar']\n",
    "student[0] = 'Divyanshu'\n",
    "print(student[0])\n",
    "print(student)"
   ]
  },
  {
   "cell_type": "code",
   "execution_count": 9,
   "id": "b8c9ba9a-20c9-48b5-895d-612712ac9d98",
   "metadata": {},
   "outputs": [
    {
     "name": "stdout",
     "output_type": "stream",
     "text": [
      "[6, 3, 96]\n"
     ]
    }
   ],
   "source": [
    "marks = [51,6,3,96,32]\n",
    "print(marks[1:4])"
   ]
  },
  {
   "cell_type": "code",
   "execution_count": 24,
   "id": "dcf15279-7eda-4878-b387-9b1bac3c64ff",
   "metadata": {},
   "outputs": [
    {
     "name": "stdout",
     "output_type": "stream",
     "text": [
      "['a', 'd', 'e', 'c', 'f']\n",
      "['a', 'c', 'd', 'e', 'f']\n",
      "['f', 'e', 'd', 'c', 'a']\n",
      "['a', 'c', 'd', 'e', 'f']\n",
      "['a', 'b', 'c', 'd', 'e', 'f']\n",
      "['a', 'b', 'c', 'd', 'e']\n",
      "['a', 'b', 'c', 'd']\n"
     ]
    }
   ],
   "source": [
    "# list = [5 ,3 ,9 ,12]\n",
    "list = ['a' ,'d' ,'e' ,'c']\n",
    "\n",
    "list.append('f')\n",
    "print(list)\n",
    "\n",
    "list.sort()\n",
    "print(list)\n",
    "\n",
    "list.sort(reverse = True)\n",
    "print(list)\n",
    "\n",
    "list.reverse()\n",
    "print(list)\n",
    "\n",
    "list.insert(1,'b')\n",
    "print(list)\n",
    "\n",
    "list.remove('f')\n",
    "print(list)\n",
    "\n",
    "list.pop(4)\n",
    "print(list)\n"
   ]
  },
  {
   "cell_type": "code",
   "execution_count": 42,
   "id": "b870869a-9948-4616-940d-129ff5e7a4b2",
   "metadata": {},
   "outputs": [
    {
     "name": "stdout",
     "output_type": "stream",
     "text": [
      "0\n"
     ]
    },
    {
     "data": {
      "text/plain": [
       "2"
      ]
     },
     "execution_count": 42,
     "metadata": {},
     "output_type": "execute_result"
    }
   ],
   "source": [
    "                      # tuples in python\n",
    "\n",
    "tup = (5,6,3,6)\n",
    "\n",
    "print(tup.index(5))\n",
    "\n",
    "tup.count(6)\n"
   ]
  },
  {
   "cell_type": "code",
   "execution_count": 51,
   "id": "8ee1fd27-23f9-4ddd-978a-309d82a7f698",
   "metadata": {},
   "outputs": [
    {
     "name": "stdin",
     "output_type": "stream",
     "text": [
      "enter your 1 fav movies : ss\n",
      "enter your 2 fav movies : sd\n",
      "enter your 3 fav movies : s\n"
     ]
    },
    {
     "name": "stdout",
     "output_type": "stream",
     "text": [
      "['ss', 'sd', 's']\n"
     ]
    }
   ],
   "source": [
    "\n",
    "movie1 = input('enter your 1 fav movies :')\n",
    "movie2= input('enter your 2 fav movies :')\n",
    "movie3 = input('enter your 3 fav movies :')\n",
    "movie = []\n",
    "movie.append(movie1)\n",
    "movie.append(movie2)\n",
    "movie.append(movie3)\n",
    "print(movie)"
   ]
  },
  {
   "cell_type": "code",
   "execution_count": 62,
   "id": "0c4ff714-f874-4274-9b28-09060772ba79",
   "metadata": {},
   "outputs": [
    {
     "name": "stdout",
     "output_type": "stream",
     "text": [
      "palindrom\n"
     ]
    }
   ],
   "source": [
    "list1 = [1,2,1]\n",
    "list2 = [1,2,3]\n",
    "\n",
    "list1 = list.copy()\n",
    "list1.reverse()\n",
    "\n",
    "if(list_copy1 == list1):\n",
    "    print('palindrom')\n",
    "else:\n",
    "    print('not palindrom')\n",
    "\n"
   ]
  },
  {
   "cell_type": "code",
   "execution_count": null,
   "id": "9cb41e37-20cc-4c0a-87a3-4a39e5b7368a",
   "metadata": {},
   "outputs": [],
   "source": []
  }
 ],
 "metadata": {
  "kernelspec": {
   "display_name": "Python 3 (ipykernel)",
   "language": "python",
   "name": "python3"
  },
  "language_info": {
   "codemirror_mode": {
    "name": "ipython",
    "version": 3
   },
   "file_extension": ".py",
   "mimetype": "text/x-python",
   "name": "python",
   "nbconvert_exporter": "python",
   "pygments_lexer": "ipython3",
   "version": "3.11.7"
  }
 },
 "nbformat": 4,
 "nbformat_minor": 5
}
