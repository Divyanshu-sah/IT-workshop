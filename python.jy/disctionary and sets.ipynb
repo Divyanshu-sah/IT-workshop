{
 "cells": [
  {
   "cell_type": "code",
   "execution_count": 12,
   "id": "aa4da949-bc15-44f3-aeaa-2b62809b80f9",
   "metadata": {},
   "outputs": [
    {
     "name": "stdout",
     "output_type": "stream",
     "text": [
      "{'name': 'Divyanshu', 'roll': 478, 'adult': True}\n",
      "478\n",
      "{'name': 'Divyanshu'}\n"
     ]
    }
   ],
   "source": [
    "info = {\n",
    "    \"name\" : \"Divyanshu\",\n",
    "    \"roll\" : 478,\n",
    "    'adult' : True,\n",
    "}\n",
    "print(info)\n",
    "\n",
    "print(info['roll'])\n",
    "\n",
    "    # with empty space\n",
    "\n",
    "null = {}\n",
    "\n",
    "null['name'] = 'Divyanshu'\n",
    "print(null)"
   ]
  },
  {
   "cell_type": "code",
   "execution_count": 17,
   "id": "4193ce0f-bc8c-4d46-b3b3-45eec9b83020",
   "metadata": {},
   "outputs": [
    {
     "name": "stdout",
     "output_type": "stream",
     "text": [
      "{'Name': 'Divyanshu', 'roll': 478, 'subject': {'phy': 75, 'chem': 63, 'math': 89}}\n",
      "{'phy': 75, 'chem': 63, 'math': 89}\n",
      "75\n"
     ]
    }
   ],
   "source": [
    "# nested disc\n",
    "\n",
    "student = {\n",
    "    'Name' : 'Divyanshu',\n",
    "    'roll' : 478,\n",
    "    \"subject\" : {\n",
    "        'phy' : 75,\n",
    "        'chem' : 63,\n",
    "        \"math\" : 89,\n",
    "    }\n",
    "}\n",
    "print(student)\n",
    "\n",
    "print(student['subject'])\n",
    "print(student['subject']['phy'])\n"
   ]
  },
  {
   "cell_type": "code",
   "execution_count": 39,
   "id": "2eb4a95c-0dca-4488-977a-1c15fd10a291",
   "metadata": {},
   "outputs": [
    {
     "name": "stdout",
     "output_type": "stream",
     "text": [
      "dict_keys(['Name', 'roll', 'subject'])\n",
      "['Name', 'roll', 'subject']\n",
      "3\n",
      "dict_values(['Divyanshu', 478, {'phy': 75, 'chem': 63, 'math': 89}])\n",
      "['Divyanshu', 478, {'phy': 75, 'chem': 63, 'math': 89}]\n",
      "[('Name', 'Divyanshu'), ('roll', 478), ('subject', {'phy': 75, 'chem': 63, 'math': 89})]\n",
      "478\n",
      "{'Name': 'Divyanshu', 'roll': 478, 'subject': {'phy': 75, 'chem': 63, 'math': 89}, 'city': 'Muzaffarpur'}\n"
     ]
    }
   ],
   "source": [
    "# method\n",
    "\n",
    "student = {\n",
    "    'Name' : 'Divyanshu',\n",
    "    'roll' : 478,\n",
    "    \"subject\" : {\n",
    "        'phy' : 75,\n",
    "        'chem' : 63,\n",
    "        \"math\" : 89,\n",
    "    }\n",
    "}\n",
    "print(student.keys())\n",
    "print(list(student.keys()))\n",
    "print(len(student.keys()))\n",
    "\n",
    "print(student.values())\n",
    "print(list(student.values()))\n",
    "\n",
    "print(list(student.items()))\n",
    "\n",
    "print(student.get('roll'))\n",
    "\n",
    "# inser new items\n",
    "\n",
    "city = {'city' : \"Muzaffarpur\",}\n",
    "student.update(city)\n",
    "print(student)\n"
   ]
  },
  {
   "cell_type": "code",
   "execution_count": 57,
   "id": "121f5fd2-6526-4a06-a07b-8523ca61d923",
   "metadata": {},
   "outputs": [
    {
     "name": "stdout",
     "output_type": "stream",
     "text": [
      "{'helo', 1, 2, 3, 4, 5, 6}\n",
      "{'helo', 1, 2, 3, 4, 5, 6, 10}\n",
      "{'helo', 1, 2, 4, 5, 6, 10}\n",
      "0\n",
      "{1, 2, 3, 4, 5}\n",
      "{3}\n"
     ]
    }
   ],
   "source": [
    "# set\n",
    "\n",
    "set = {1,2,3,4,5,6,3,'helo','helo'}\n",
    "print(set)\n",
    "\n",
    "set.add(10)\n",
    "print(set)\n",
    "\n",
    "set.remove(3)\n",
    "print(set)\n",
    "\n",
    "set.clear()\n",
    "print(len(set))\n",
    "\n",
    "set1 = {1,2,3}\n",
    "set2 = {3,4,5}\n",
    "print(set1.union(set2))\n",
    "print(set1.intersection(set2))\n",
    "\n"
   ]
  },
  {
   "cell_type": "code",
   "execution_count": 13,
   "id": "6ab47691-7543-43d0-b742-f921f06c4009",
   "metadata": {},
   "outputs": [
    {
     "ename": "SyntaxError",
     "evalue": "invalid syntax. Perhaps you forgot a comma? (2494457586.py, line 9)",
     "output_type": "error",
     "traceback": [
      "\u001b[1;36m  Cell \u001b[1;32mIn[13], line 9\u001b[1;36m\u001b[0m\n\u001b[1;33m    'classroom 1' : {\u001b[0m\n\u001b[1;37m                    ^\u001b[0m\n\u001b[1;31mSyntaxError\u001b[0m\u001b[1;31m:\u001b[0m invalid syntax. Perhaps you forgot a comma?\n"
     ]
    }
   ],
   "source": [
    "dict = {\n",
    "    'table' : ['a piece of furniture', 'list of facts and figures'],\n",
    "    'cat' : 'a small animal',\n",
    "}\n",
    "print(dict)\n",
    "\n",
    "student = {\n",
    "    \n",
    "    'classroom 1' : { \n",
    "        'subject' : 'python',\n",
    "    }\n",
    "     'classroom 2' : {\n",
    "        'subject' : 'java',\n",
    "    }\n",
    "     'classroom 3' : {\n",
    "        'subject' : 'c++',\n",
    "    }\n",
    "     'classroom 4' : {\n",
    "        'subject' : 'javascript',\n",
    "     }\n",
    "     'classroom 5' : {\n",
    "        'subject' : 'c',\n",
    "    }\n",
    "}\n",
    "print(student)\n",
    "print(len(student))"
   ]
  },
  {
   "cell_type": "code",
   "execution_count": 18,
   "id": "c4e76603-5712-47fb-aadc-6ef3bca3204f",
   "metadata": {},
   "outputs": [
    {
     "name": "stdin",
     "output_type": "stream",
     "text": [
      "enter the math marks 89\n",
      "enter the phy marks 75\n",
      "enter the chem marks 63\n"
     ]
    },
    {
     "name": "stdout",
     "output_type": "stream",
     "text": [
      "{'Math': 'sub1', 'phy': 'sub2', 'chem': 'sub3'}\n"
     ]
    }
   ],
   "source": [
    "sub1 = int(input('enter the math marks'))\n",
    "sub2 = int(input('enter the phy marks'))\n",
    "sub3 = int(input('enter the chem marks'))\n",
    "subject = {}\n",
    "subject['Math'] = 'sub1'\n",
    "subject['phy'] = 'sub2'               #problem\n",
    "subject['chem'] = 'sub3'\n",
    "print(subject)\n"
   ]
  },
  {
   "cell_type": "code",
   "execution_count": 22,
   "id": "a0497af9-b4eb-44e7-bb12-85a95a765bb0",
   "metadata": {},
   "outputs": [
    {
     "name": "stdout",
     "output_type": "stream",
     "text": [
      "{('float', 9.0), ('int', 9)}\n"
     ]
    }
   ],
   "source": [
    "set = {\n",
    "    ('float', 9.0),\n",
    "    ('int',9)\n",
    "}\n",
    "print(set)\n"
   ]
  }
 ],
 "metadata": {
  "kernelspec": {
   "display_name": "Python 3 (ipykernel)",
   "language": "python",
   "name": "python3"
  },
  "language_info": {
   "codemirror_mode": {
    "name": "ipython",
    "version": 3
   },
   "file_extension": ".py",
   "mimetype": "text/x-python",
   "name": "python",
   "nbconvert_exporter": "python",
   "pygments_lexer": "ipython3",
   "version": "3.11.7"
  }
 },
 "nbformat": 4,
 "nbformat_minor": 5
}
